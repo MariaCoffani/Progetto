{
  "nbformat": 4,
  "nbformat_minor": 0,
  "metadata": {
    "colab": {
      "provenance": [],
      "authorship_tag": "ABX9TyOtBHNCf0U2Wn2y8wPaTRsj",
      "include_colab_link": true
    },
    "kernelspec": {
      "name": "python3",
      "display_name": "Python 3"
    },
    "language_info": {
      "name": "python"
    }
  },
  "cells": [
    {
      "cell_type": "markdown",
      "metadata": {
        "id": "view-in-github",
        "colab_type": "text"
      },
      "source": [
        "<a href=\"https://colab.research.google.com/github/MariaCoffani/Progetto/blob/main/Primi_Esercizi.ipynb\" target=\"_parent\"><img src=\"https://colab.research.google.com/assets/colab-badge.svg\" alt=\"Open In Colab\"/></a>"
      ]
    },
    {
      "cell_type": "code",
      "execution_count": 2,
      "metadata": {
        "colab": {
          "base_uri": "https://localhost:8080/"
        },
        "id": "h7fuDRymFy8_",
        "outputId": "621477f6-6ece-4c74-ccbd-41e3f92b4f1e"
      },
      "outputs": [
        {
          "output_type": "stream",
          "name": "stdout",
          "text": [
            "Inserisci il primo numero intero: 4\n",
            "Inserisci il secondo numero intero: 3\n",
            "Almeno uno dei due numeri non è pari.\n"
          ]
        }
      ],
      "source": [
        "# Chiedi all'utente di inserire due numeri interi\n",
        "numero1 = int(input(\"Inserisci il primo numero intero: \"))\n",
        "numero2 = int(input(\"Inserisci il secondo numero intero: \"))\n",
        "\n",
        "# Verifica se entrambi i numeri sono pari\n",
        "if numero1 % 2 == 0 and numero2 % 2 == 0:\n",
        "    print(\"Entrambi i numeri sono pari.\")\n",
        "else:\n",
        "    print(\"Almeno uno dei due numeri non è pari.\")\n"
      ]
    },
    {
      "cell_type": "code",
      "source": [
        "print(\"Positivo o negativo\")\n",
        "num1= int(input(\"Inserire un numero\"))\n",
        "if(num1 > 0):\n",
        "    print(\"il numero è positivo\")\n",
        "else:\n",
        "    print(\"il numero è negativo\")\n"
      ],
      "metadata": {
        "colab": {
          "base_uri": "https://localhost:8080/"
        },
        "id": "hu_OVZqyG-1a",
        "outputId": "6b4d277f-fb7a-4927-d1de-d526e4618207"
      },
      "execution_count": 3,
      "outputs": [
        {
          "output_type": "stream",
          "name": "stdout",
          "text": [
            "Positivo o negativo\n",
            "Inserire un numero4\n",
            "il numero è positivo\n"
          ]
        }
      ]
    },
    {
      "cell_type": "code",
      "source": [
        "print(\"Positivo o negativo\")\n",
        "num1= int(input(\"Inserire un numero\"))\n",
        "if(num1 > 0):\n",
        "    print(\"il numero è positivo\")\n",
        "else:\n",
        "    print(\"il numero è negativo\")\n"
      ],
      "metadata": {
        "colab": {
          "base_uri": "https://localhost:8080/"
        },
        "id": "hJIz4o4gHBZC",
        "outputId": "3e205443-d796-4507-c9fa-f0d66317cc48"
      },
      "execution_count": 5,
      "outputs": [
        {
          "output_type": "stream",
          "name": "stdout",
          "text": [
            "Positivo o negativo\n",
            "Inserire un numero-3\n",
            "il numero è negativo\n"
          ]
        }
      ]
    }
  ]
}